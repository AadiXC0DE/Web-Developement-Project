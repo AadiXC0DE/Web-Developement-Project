{
  "nbformat": 4,
  "nbformat_minor": 0,
  "metadata": {
    "kernelspec": {
      "display_name": "Python 3",
      "language": "python",
      "name": "python3"
    },
    "language_info": {
      "codemirror_mode": {
        "name": "ipython",
        "version": 3
      },
      "file_extension": ".py",
      "mimetype": "text/x-python",
      "name": "python",
      "nbconvert_exporter": "python",
      "pygments_lexer": "ipython3",
      "version": "3.7.6"
    },
    "colab": {
      "name": "us-accident-notebook.ipynb",
      "provenance": [],
      "collapsed_sections": [],
      "include_colab_link": true
    }
  },
  "cells": [
    {
      "cell_type": "markdown",
      "metadata": {
        "id": "view-in-github",
        "colab_type": "text"
      },
      "source": [
        "<a href=\"https://colab.research.google.com/github/nitinarya2001/Web-Developement-Project/blob/main/us_accident_notebook.ipynb\" target=\"_parent\"><img src=\"https://colab.research.google.com/assets/colab-badge.svg\" alt=\"Open In Colab\"/></a>"
      ]
    },
    {
      "cell_type": "code",
      "metadata": {
        "id": "_jfDMkg6hogB"
      },
      "source": [
        "# Jovian Commit Essentials\n",
        "# Please retain and execute this cell without modifying the contents for `jovian.commit` to work\n",
        "!pip install jovian --upgrade -q\n",
        "import jovian\n",
        "jovian.set_project('us-accident-notebook')\n",
        "jovian.set_colab_id('1boqpfpNu5HZ9M3EE3519L-8fcUfEcAWX')"
      ],
      "execution_count": null,
      "outputs": []
    },
    {
      "cell_type": "markdown",
      "metadata": {
        "id": "BqT0zbKPhogF"
      },
      "source": [
        "# us-accident-notebook\n",
        "\n",
        "Use the \"Run\" button to execute the code."
      ]
    },
    {
      "cell_type": "markdown",
      "metadata": {
        "id": "scvFh9_9iazL"
      },
      "source": [
        "# US Accident Exploratory Data - Analysis\n",
        "\n",
        "TODO - talk about EDA\n",
        "\n",
        "TODO - talk about data set(Source,What it Contains,How it will useful\n",
        "  - Kaggle\n",
        "  - Information about accidents\n",
        "  - useful to prevent accidents\n",
        "  - Mention that this does not contain data about New York \n"
      ]
    },
    {
      "cell_type": "code",
      "metadata": {
        "id": "q4vq4Qh0iM6k"
      },
      "source": [
        "pip install opendatasets --upgrade --quiet"
      ],
      "execution_count": 10,
      "outputs": []
    },
    {
      "cell_type": "code",
      "metadata": {
        "id": "2cViGwXVlciJ"
      },
      "source": [
        "import opendatasets as od\n",
        "\n",
        "download_url = 'https://www.kaggle.com/sobhanmoosavi/us-accidents'\n",
        "od.download(download_url)\n"
      ],
      "execution_count": null,
      "outputs": []
    },
    {
      "cell_type": "code",
      "metadata": {
        "id": "FlwxV8w8lceA"
      },
      "source": [
        "data_filename = './us-accidents/US_Accidents_Dec20_Updated.csv'"
      ],
      "execution_count": 13,
      "outputs": []
    },
    {
      "cell_type": "markdown",
      "metadata": {
        "id": "2xu8j1gajC-W"
      },
      "source": [
        "## Data Prepration and Cleaning\n",
        "- Load the file using Pandas\n",
        "- Look at some information about the data and columns\n",
        "- fix any missing or incoreect values\n",
        "\n",
        "\n"
      ]
    },
    {
      "cell_type": "code",
      "metadata": {
        "id": "D9b55btujBoz"
      },
      "source": [
        "import pandas as pd"
      ],
      "execution_count": 14,
      "outputs": []
    },
    {
      "cell_type": "code",
      "metadata": {
        "id": "S0LMlHoQjBiI"
      },
      "source": [
        "df = pd.read_csv(data_filename)"
      ],
      "execution_count": 15,
      "outputs": []
    },
    {
      "cell_type": "code",
      "metadata": {
        "id": "xFU6CUtkiMZk"
      },
      "source": [
        "df"
      ],
      "execution_count": null,
      "outputs": []
    },
    {
      "cell_type": "code",
      "metadata": {
        "id": "27ZLP6nO2ADd"
      },
      "source": [
        "df.columns"
      ],
      "execution_count": null,
      "outputs": []
    },
    {
      "cell_type": "code",
      "metadata": {
        "id": "45lBhdhO1_-m"
      },
      "source": [
        "len(df.columns)"
      ],
      "execution_count": null,
      "outputs": []
    },
    {
      "cell_type": "code",
      "metadata": {
        "id": "_leYRs_i1_8p"
      },
      "source": [
        "df.describe()"
      ],
      "execution_count": null,
      "outputs": []
    },
    {
      "cell_type": "code",
      "metadata": {
        "id": "gFwPBXa-1_4f"
      },
      "source": [
        "numerics = ['int16','int32','int64','float16','float32','float64']\n",
        "numeric_df = df.select_dtypes(include=numerics)\n",
        "len(numeric_df.columns)"
      ],
      "execution_count": null,
      "outputs": []
    },
    {
      "cell_type": "markdown",
      "metadata": {
        "id": "94k5xhaxH7zu"
      },
      "source": [
        "Percentage of missing values per column"
      ]
    },
    {
      "cell_type": "code",
      "metadata": {
        "id": "DOoNTLy31_1_"
      },
      "source": [
        "missing_percentages = df.isna().sum().sort_values(ascending=False)/ len(df)\n",
        "missing_percentages"
      ],
      "execution_count": null,
      "outputs": []
    },
    {
      "cell_type": "code",
      "metadata": {
        "id": "JUIOnLzlJzn_"
      },
      "source": [
        "missing_percentages[missing_percentages != 0]"
      ],
      "execution_count": null,
      "outputs": []
    },
    {
      "cell_type": "code",
      "metadata": {
        "id": "4gU9aQ8dJKWe"
      },
      "source": [
        "type(missing_percentages)"
      ],
      "execution_count": null,
      "outputs": []
    },
    {
      "cell_type": "code",
      "metadata": {
        "colab": {
          "base_uri": "https://localhost:8080/",
          "height": 282
        },
        "id": "qPtgx9SFjPFI",
        "outputId": "834077f5-d01c-4fee-dcd8-122b2bf77f2d"
      },
      "source": [
        "missing_percentages[missing_percentages != 0].plot(kind = 'barh')"
      ],
      "execution_count": 24,
      "outputs": [
        {
          "output_type": "execute_result",
          "data": {
            "text/plain": [
              "<matplotlib.axes._subplots.AxesSubplot at 0x7f89def88fd0>"
            ]
          },
          "metadata": {
            "tags": []
          },
          "execution_count": 24
        },
        {
          "output_type": "display_data",
          "data": {
            "image/png": "[encoded data removed]",
            "text/plain": [
              "<Figure size 432x288 with 1 Axes>"
            ]
          },
          "metadata": {
            "tags": [],
            "needs_background": "light"
          }
        }
      ]
    },
    {
      "cell_type": "markdown",
      "metadata": {
        "id": "XXO5ysUHKp55"
      },
      "source": [
        "Remove columns that you don't want to use."
      ]
    },
    {
      "cell_type": "code",
      "metadata": {
        "id": "mdWd6lnlKpcX"
      },
      "source": [
        ""
      ],
      "execution_count": null,
      "outputs": []
    },
    {
      "cell_type": "code",
      "metadata": {
        "id": "sMprMzunKpaX"
      },
      "source": [
        ""
      ],
      "execution_count": null,
      "outputs": []
    },
    {
      "cell_type": "markdown",
      "metadata": {
        "id": "2XrLRKLgjP1Y"
      },
      "source": [
        "## Exploratory Analysis And Visualization\n",
        "Columns we will ananlyze\n",
        "\n",
        "1. City\n",
        "2. Start_Time\n"
      ]
    },
    {
      "cell_type": "code",
      "metadata": {
        "id": "dpa5d74qjPDP"
      },
      "source": [
        "df.columns"
      ],
      "execution_count": null,
      "outputs": []
    },
    {
      "cell_type": "markdown",
      "metadata": {
        "id": "HF3MSwtOge3C"
      },
      "source": [
        "### City"
      ]
    },
    {
      "cell_type": "code",
      "metadata": {
        "id": "FBc5y1RqjO3j"
      },
      "source": [
        "df.City"
      ],
      "execution_count": null,
      "outputs": []
    },
    {
      "cell_type": "code",
      "metadata": {
        "id": "8zVV4SJNN9Ex"
      },
      "source": [
        "df.City.unique()"
      ],
      "execution_count": null,
      "outputs": []
    },
    {
      "cell_type": "code",
      "metadata": {
        "id": "8Pd-qBE_N81u"
      },
      "source": [
        "Cities = df.City.unique()\n",
        "len(Cities)"
      ],
      "execution_count": null,
      "outputs": []
    },
    {
      "cell_type": "code",
      "metadata": {
        "colab": {
          "base_uri": "https://localhost:8080/"
        },
        "id": "j1mrISWMN80L",
        "outputId": "28a75d3d-f73b-46b5-b404-74c2a54a30c1"
      },
      "source": [
        "cities_by_accident = df.City.value_counts()\n",
        "cities_by_accident"
      ],
      "execution_count": 29,
      "outputs": [
        {
          "output_type": "execute_result",
          "data": {
            "text/plain": [
              "Los Angeles      68411\n",
              "Houston          68265\n",
              "Charlotte        56176\n",
              "Miami            49965\n",
              "Dallas           48525\n",
              "                 ...  \n",
              "Primm Springs        1\n",
              "Wink                 1\n",
              "Petroleum            1\n",
              "Mineville            1\n",
              "Mellen               1\n",
              "Name: City, Length: 11789, dtype: int64"
            ]
          },
          "metadata": {
            "tags": []
          },
          "execution_count": 29
        }
      ]
    },
    {
      "cell_type": "code",
      "metadata": {
        "colab": {
          "base_uri": "https://localhost:8080/"
        },
        "id": "j2GFZ1ogN8v5",
        "outputId": "68e70414-c8c8-4324-c1e7-552f0e77f4c2"
      },
      "source": [
        "cities_by_accident[:10]"
      ],
      "execution_count": 30,
      "outputs": [
        {
          "output_type": "execute_result",
          "data": {
            "text/plain": [
              "Los Angeles    68411\n",
              "Houston        68265\n",
              "Charlotte      56176\n",
              "Miami          49965\n",
              "Dallas         48525\n",
              "Austin         38808\n",
              "Raleigh        31355\n",
              "Atlanta        29244\n",
              "Sacramento     28984\n",
              "Orlando        28092\n",
              "Name: City, dtype: int64"
            ]
          },
          "metadata": {
            "tags": []
          },
          "execution_count": 30
        }
      ]
    },
    {
      "cell_type": "code",
      "metadata": {
        "id": "EWIZiytoN8t1"
      },
      "source": [
        "'New York' in df.City"
      ],
      "execution_count": null,
      "outputs": []
    },
    {
      "cell_type": "markdown",
      "metadata": {
        "id": "MMztzvT5VGJl"
      },
      "source": [
        "New York data is not present in data analysis .\n",
        "\n",
        "Among the top 100 city in number of accidents,Los Angeles city do they belong to most frequently .\n"
      ]
    },
    {
      "cell_type": "code",
      "metadata": {
        "colab": {
          "base_uri": "https://localhost:8080/",
          "height": 282
        },
        "id": "XcMkp8hxN8qa",
        "outputId": "4089e1a9-949a-4108-f5b7-d1727e249cb0"
      },
      "source": [
        "cities_by_accident[:20].plot(kind = 'barh')"
      ],
      "execution_count": 32,
      "outputs": [
        {
          "output_type": "execute_result",
          "data": {
            "text/plain": [
              "<matplotlib.axes._subplots.AxesSubplot at 0x7f89dfa1d090>"
            ]
          },
          "metadata": {
            "tags": []
          },
          "execution_count": 32
        },
        {
          "output_type": "display_data",
          "data": {
            "image/png": "[encoded data removed]",
            "text/plain": [
              "<Figure size 432x288 with 1 Axes>"
            ]
          },
          "metadata": {
            "tags": [],
            "needs_background": "light"
          }
        }
      ]
    },
    {
      "cell_type": "code",
      "metadata": {
        "id": "JOH2EDiZN8oe"
      },
      "source": [
        "import seaborn as sns\n",
        "sns.set_style('darkgrid')"
      ],
      "execution_count": 33,
      "outputs": []
    },
    {
      "cell_type": "code",
      "metadata": {
        "colab": {
          "base_uri": "https://localhost:8080/",
          "height": 300
        },
        "id": "Y8LRfc2_jO1D",
        "outputId": "9d7b6671-54a6-4a59-8a6a-acb2e92f4e4e"
      },
      "source": [
        "sns.histplot(cities_by_accident,log_scale=True)"
      ],
      "execution_count": 34,
      "outputs": [
        {
          "output_type": "execute_result",
          "data": {
            "text/plain": [
              "<matplotlib.axes._subplots.AxesSubplot at 0x7f89d0071810>"
            ]
          },
          "metadata": {
            "tags": []
          },
          "execution_count": 34
        },
        {
          "output_type": "display_data",
          "data": {
            "image/png": "[encoded data removed]",
            "text/plain": [
              "<Figure size 432x288 with 1 Axes>"
            ]
          },
          "metadata": {
            "tags": []
          }
        }
      ]
    },
    {
      "cell_type": "code",
      "metadata": {
        "id": "Lx3iEOBLb8O4"
      },
      "source": [
        "high_accident_cities = cities_by_accident[cities_by_accident >= 1000]\n",
        "low_accident_cities = cities_by_accident[cities_by_accident < 1000]"
      ],
      "execution_count": 35,
      "outputs": []
    },
    {
      "cell_type": "code",
      "metadata": {
        "colab": {
          "base_uri": "https://localhost:8080/"
        },
        "id": "Q5LKRNYDb8NI",
        "outputId": "e7d0ca43-f294-4a50-836e-8017b9cb6c58"
      },
      "source": [
        "len(high_accident_cities) / len(Cities)\n"
      ],
      "execution_count": 36,
      "outputs": [
        {
          "output_type": "execute_result",
          "data": {
            "text/plain": [
              "0.04351145038167939"
            ]
          },
          "metadata": {
            "tags": []
          },
          "execution_count": 36
        }
      ]
    },
    {
      "cell_type": "code",
      "metadata": {
        "id": "SJzA1Nzrb76u"
      },
      "source": [
        "sns.distplot(high_accident_cities)"
      ],
      "execution_count": null,
      "outputs": []
    },
    {
      "cell_type": "code",
      "metadata": {
        "colab": {
          "base_uri": "https://localhost:8080/",
          "height": 350
        },
        "id": "eU6frgldb75C",
        "outputId": "75b72458-03e3-4b9f-a50a-0d2aebc3f042"
      },
      "source": [
        "sns.distplot(low_accident_cities)"
      ],
      "execution_count": 38,
      "outputs": [
        {
          "output_type": "stream",
          "text": [
            "/usr/local/lib/python3.7/dist-packages/seaborn/distributions.py:2557: FutureWarning: `distplot` is a deprecated function and will be removed in a future version. Please adapt your code to use either `displot` (a figure-level function with similar flexibility) or `histplot` (an axes-level function for histograms).\n",
            "  warnings.warn(msg, FutureWarning)\n"
          ],
          "name": "stderr"
        },
        {
          "output_type": "execute_result",
          "data": {
            "text/plain": [
              "<matplotlib.axes._subplots.AxesSubplot at 0x7f89cdc59410>"
            ]
          },
          "metadata": {
            "tags": []
          },
          "execution_count": 38
        },
        {
          "output_type": "display_data",
          "data": {
            "image/png": "[encoded data removed]",
            "text/plain": [
              "<Figure size 432x288 with 1 Axes>"
            ]
          },
          "metadata": {
            "tags": []
          }
        }
      ]
    },
    {
      "cell_type": "code",
      "metadata": {
        "colab": {
          "base_uri": "https://localhost:8080/"
        },
        "id": "xxqknRTqeI_Y",
        "outputId": "faa9a983-3b39-4ae5-f0dd-1a8ac3ca3bd9"
      },
      "source": [
        "cities_by_accident[cities_by_accident == 1]"
      ],
      "execution_count": 39,
      "outputs": [
        {
          "output_type": "execute_result",
          "data": {
            "text/plain": [
              "Reagan           1\n",
              "Sour Lake        1\n",
              "Whitewright      1\n",
              "Elkville         1\n",
              "Munford          1\n",
              "                ..\n",
              "Primm Springs    1\n",
              "Wink             1\n",
              "Petroleum        1\n",
              "Mineville        1\n",
              "Mellen           1\n",
              "Name: City, Length: 1306, dtype: int64"
            ]
          },
          "metadata": {
            "tags": []
          },
          "execution_count": 39
        }
      ]
    },
    {
      "cell_type": "markdown",
      "metadata": {
        "id": "r67vsNi-gqgI"
      },
      "source": [
        "### Start-Time"
      ]
    },
    {
      "cell_type": "code",
      "metadata": {
        "colab": {
          "base_uri": "https://localhost:8080/"
        },
        "id": "p0TcESSXgqHm",
        "outputId": "58a71a9c-e814-49f2-c0b3-ccb22f0e7c2d"
      },
      "source": [
        "df.Start_Time"
      ],
      "execution_count": 40,
      "outputs": [
        {
          "output_type": "execute_result",
          "data": {
            "text/plain": [
              "0          2019-05-21 08:29:55\n",
              "1          2019-10-07 17:43:09\n",
              "2          2020-12-13 21:53:00\n",
              "3          2018-04-17 16:51:23\n",
              "4          2016-08-31 17:40:49\n",
              "                  ...         \n",
              "2906605    2018-06-28 08:49:01\n",
              "2906606    2019-01-10 02:01:01\n",
              "2906607    2020-11-23 12:52:00\n",
              "2906608    2019-12-29 22:38:00\n",
              "2906609    2018-03-26 13:35:03\n",
              "Name: Start_Time, Length: 2906610, dtype: object"
            ]
          },
          "metadata": {
            "tags": []
          },
          "execution_count": 40
        }
      ]
    },
    {
      "cell_type": "code",
      "metadata": {
        "id": "Xm_qOSsPgqDX"
      },
      "source": [
        "df.Start_Time = pd.to_datetime(df.Start_Time)"
      ],
      "execution_count": 53,
      "outputs": []
    },
    {
      "cell_type": "markdown",
      "metadata": {
        "id": "uxIc_Enn_SDk"
      },
      "source": [
        "How to figure out percentage"
      ]
    },
    {
      "cell_type": "code",
      "metadata": {
        "colab": {
          "base_uri": "https://localhost:8080/",
          "height": 350
        },
        "id": "DKqJRI1dgp-a",
        "outputId": "f11c3671-d562-4d27-a7f6-0c85cdefdf2b"
      },
      "source": [
        "sns.distplot(df.Start_Time.dt.hour,bins = 24, kde = False,norm_hist=True)"
      ],
      "execution_count": 59,
      "outputs": [
        {
          "output_type": "stream",
          "text": [
            "/usr/local/lib/python3.7/dist-packages/seaborn/distributions.py:2557: FutureWarning: `distplot` is a deprecated function and will be removed in a future version. Please adapt your code to use either `displot` (a figure-level function with similar flexibility) or `histplot` (an axes-level function for histograms).\n",
            "  warnings.warn(msg, FutureWarning)\n"
          ],
          "name": "stderr"
        },
        {
          "output_type": "execute_result",
          "data": {
            "text/plain": [
              "<matplotlib.axes._subplots.AxesSubplot at 0x7f89c05e5110>"
            ]
          },
          "metadata": {
            "tags": []
          },
          "execution_count": 59
        },
        {
          "output_type": "display_data",
          "data": {
            "image/png": "[encoded data removed]",
            "text/plain": [
              "<Figure size 432x288 with 1 Axes>"
            ]
          },
          "metadata": {
            "tags": []
          }
        }
      ]
    },
    {
      "cell_type": "markdown",
      "metadata": {
        "id": "lqlKHjrM_wcL"
      },
      "source": [
        "A high percentage of accident is occur in 6 am to 9 am\n",
        "Next highest percentage is 3 pm to 6 pm"
      ]
    },
    {
      "cell_type": "code",
      "metadata": {
        "colab": {
          "base_uri": "https://localhost:8080/",
          "height": 350
        },
        "id": "op7qtKqtArsz",
        "outputId": "520e136a-e150-4339-aecc-e713ed5dfff0"
      },
      "source": [
        "sns.distplot(df.Start_Time.dt.dayofweek,bins = 7, kde = False,norm_hist=True)"
      ],
      "execution_count": 123,
      "outputs": [
        {
          "output_type": "stream",
          "text": [
            "/usr/local/lib/python3.7/dist-packages/seaborn/distributions.py:2557: FutureWarning: `distplot` is a deprecated function and will be removed in a future version. Please adapt your code to use either `displot` (a figure-level function with similar flexibility) or `histplot` (an axes-level function for histograms).\n",
            "  warnings.warn(msg, FutureWarning)\n"
          ],
          "name": "stderr"
        },
        {
          "output_type": "execute_result",
          "data": {
            "text/plain": [
              "<matplotlib.axes._subplots.AxesSubplot at 0x7f89be18b690>"
            ]
          },
          "metadata": {
            "tags": []
          },
          "execution_count": 123
        },
        {
          "output_type": "display_data",
          "data": {
            "image/png": "[encoded data removed]",
            "text/plain": [
              "<Figure size 432x288 with 1 Axes>"
            ]
          },
          "metadata": {
            "tags": []
          }
        }
      ]
    },
    {
      "cell_type": "markdown",
      "metadata": {
        "id": "Jw6yoh21BYFn"
      },
      "source": [
        "in Weekdays Most accident occured\n",
        "\n",
        "Is the distribution of accidents by hour the same on weekends as on Weekdays ?"
      ]
    },
    {
      "cell_type": "code",
      "metadata": {
        "id": "IYN5il7Cgp8t"
      },
      "source": [
        "Sundays_Start_Time = df.Start_Time[df.Start_Time.dt.dayofweek == 6]\n",
        "sns.distplot(Sundays_Start_Time.dt.hour,bins = 24, kde = False,norm_hist=True)"
      ],
      "execution_count": null,
      "outputs": []
    },
    {
      "cell_type": "markdown",
      "metadata": {
        "id": "25JtU8SYCl59"
      },
      "source": [
        "In Sunday Mostly Accident occur between 1 PM to 3 PM"
      ]
    },
    {
      "cell_type": "code",
      "metadata": {
        "id": "TXqe9ell_3dx"
      },
      "source": [
        "sns.distplot(df.Start_Time.dt.month,bins = 12, kde = False,norm_hist=True)"
      ],
      "execution_count": null,
      "outputs": []
    },
    {
      "cell_type": "markdown",
      "metadata": {
        "id": "QesV_BzdDYCy"
      },
      "source": [
        "In December Month, Mostly accident Occur\n",
        "\n",
        "Much data is missing in 2016 , Maybe 2017\n",
        "\n",
        "Trend is increses over year and year\n",
        "\n",
        "There is some issue with Bing Data "
      ]
    },
    {
      "cell_type": "code",
      "metadata": {
        "id": "HW18D0tUEYM3"
      },
      "source": [
        "df.Start_Time.dt.year"
      ],
      "execution_count": null,
      "outputs": []
    },
    {
      "cell_type": "code",
      "metadata": {
        "id": "Zd1v8Gk_eI9u"
      },
      "source": [
        "df_2019 = df[df.Start_Time.dt.year == 2019]\n",
        "sns.distplot(df_2019.Start_Time.dt.month,bins = 12, kde = False,norm_hist=True)"
      ],
      "execution_count": null,
      "outputs": []
    },
    {
      "cell_type": "code",
      "metadata": {
        "id": "TjbyZh50GFTk"
      },
      "source": [
        ""
      ],
      "execution_count": null,
      "outputs": []
    },
    {
      "cell_type": "code",
      "metadata": {
        "id": "4_uU9V7kGFRZ"
      },
      "source": [
        ""
      ],
      "execution_count": null,
      "outputs": []
    },
    {
      "cell_type": "markdown",
      "metadata": {
        "id": "hx6Ky8-ejeMk"
      },
      "source": [
        "## Ask and Answer Question\n",
        "\n",
        "1. Does New York show up in data? if yes, why is the count lower if it have maximum population ? -- ANSWERED\n",
        "2. Among the top 100 city in number of accidents,Which city do they belong to most frequently? --ANSWERED\n",
        "3. What time of the day are most accident frequent in? -- ANSWERED\n",
        "4. Which day have the most accidents ? -- ANSWERED\n",
        "5. Which Month have the most accidents?  -- ANSWERED\n",
        "6. What is the trend of accident increase over year(Increasing/decreasing)? -- ANSWERED\n"
      ]
    },
    {
      "cell_type": "code",
      "metadata": {
        "id": "ypv6JBrFjOwv"
      },
      "source": [
        ""
      ],
      "execution_count": null,
      "outputs": []
    },
    {
      "cell_type": "markdown",
      "metadata": {
        "id": "bD4qBHigUZmS"
      },
      "source": [
        "Answer 2"
      ]
    },
    {
      "cell_type": "code",
      "metadata": {
        "id": "8k7Ls7d8jOvB"
      },
      "source": [
        ""
      ],
      "execution_count": null,
      "outputs": []
    },
    {
      "cell_type": "markdown",
      "metadata": {
        "id": "oWfCRju-jkb1"
      },
      "source": [
        "## Summary and Conclusion\n",
        "1. No data for New York\n",
        "2. Less than 5% cities have more than than 1000 yearly accident.\n",
        "3. over 1300 cities have just reported one accident .(need to investigate)\n",
        "4. Number of accidents  er city decrease exponentially\n"
      ]
    },
    {
      "cell_type": "code",
      "metadata": {
        "id": "-a-e0pHWiMCl"
      },
      "source": [
        ""
      ],
      "execution_count": null,
      "outputs": []
    },
    {
      "cell_type": "code",
      "metadata": {
        "id": "OJDrs1JXhogI"
      },
      "source": [
        ""
      ],
      "execution_count": null,
      "outputs": []
    }
  ]
}